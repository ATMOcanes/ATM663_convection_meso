{
 "cells": [
  {
   "cell_type": "markdown",
   "metadata": {},
   "source": [
    "## Pressure solver illustration: bubble in *background* shear\n",
    "\n",
    "codes from n100 [notebook](https://anaconda.org/bfiedler/notebooks) v2.82, 6 April 2018, by Brian Fiedler, edited by Brian Mapes spring 2019\n",
    "\n",
    "$\\newcommand{\\V}[1]{\\vec{\\boldsymbol{#1}}}$\n",
    "$\\newcommand{\\I}[1]{\\widehat{\\boldsymbol{\\mathrm{#1}}}}$\n",
    "$\\newcommand{\\pd}[2]{\\frac{\\partial#1}{\\partial#2}}$\n",
    "$\\newcommand{\\pdt}[1]{\\frac{\\partial#1}{\\partial t}}$\n",
    "$\\newcommand{\\ddt}[1]{\\frac{\\D#1}{\\D t}}$\n",
    "$\\newcommand{\\D}{\\mathrm{d}}$\n",
    "$\\newcommand{\\Ii}{\\I{\\imath}}$\n",
    "$\\newcommand{\\Ij}{\\I{\\jmath}}$\n",
    "$\\newcommand{\\Ik}{\\I{k}}$\n",
    "$\\newcommand{\\VU}{\\V{U}}$\n",
    "$\\newcommand{\\del}{\\boldsymbol{\\nabla}}$\n",
    "$\\newcommand{\\dt}{\\cdot}$\n",
    "$\\newcommand{\\x}{\\times}$\n",
    "$\\newcommand{\\dv}{\\del\\cdot}$\n",
    "$\\newcommand{\\curl}{\\del\\times}$\n",
    "$\\newcommand{\\lapl}{\\nabla^2}$\n",
    "$\\require{color}$"
   ]
  },
  {
   "cell_type": "code",
   "execution_count": 1,
   "metadata": {
    "scrolled": false
   },
   "outputs": [],
   "source": [
    "import matplotlib.pyplot as plt\n",
    "%matplotlib inline\n",
    "from IPython.display import display,clear_output\n",
    "import time as Time\n",
    "import math, os\n",
    "import numpy as np\n",
    "import scipy.fftpack\n",
    "import matplotlib\n",
    "matplotlib.rcParams.update({'font.size': 22})\n",
    "from IPython.core.display import HTML\n",
    "import urllib.request"
   ]
  },
  {
   "cell_type": "code",
   "execution_count": 2,
   "metadata": {
    "scrolled": true
   },
   "outputs": [
    {
     "data": {
      "text/html": [
       "<style>\n",
       "div.text_cell_render{\n",
       "    background-color: #efe;\n",
       "    }\n",
       ".rendered_html code {\n",
       "    background-color: #efe;\n",
       "    color: #900;\n",
       "}\n",
       ".rendered_html pre {\n",
       "    background-color: #efe;\n",
       "    color: #900;\n",
       "}\n",
       ".rendered_html hr {\n",
       "height:6px;\n",
       "border:none;\n",
       "background-color: #f00;\n",
       "} \n",
       ".rendered_html h2 {margin-left: 1em; color: purple;  text-align:left; padding-top: 0.5em; }\n",
       ".rendered_html h3 {margin-left: 2em; color: olive;  text-align:left; padding-top: 0.5em; }\n",
       ".rendered_html h4 {margin-left: 3em; color: teal;  text-align:left; padding-top: 0.5em; }\n",
       "</style>\n"
      ],
      "text/plain": [
       "<IPython.core.display.HTML object>"
      ]
     },
     "execution_count": 2,
     "metadata": {},
     "output_type": "execute_result"
    }
   ],
   "source": [
    "# colorization style sheet, for readability \n",
    "HTML(urllib.request.urlopen('http://metrprof.xyz/metr4323.css').read().decode())\n",
    "#HTML( open('metr4323.css').read() ) #or use this, if you have downloaded metr4233.css to your computer"
   ]
  },
  {
   "cell_type": "markdown",
   "metadata": {},
   "source": [
    "## The incompressible equations\n",
    "\n",
    "The equations are those in `StreamfunctionVorticity.ipynb`: two-dimensional, inviscid, incompressible flow,\n",
    "but now in the $(x,z)$ plane. \n",
    "Being incompressible, density is conserved in parcels.\n",
    "But here we allow for gravity in the $z$ direction and for density variations in the buoyancy term $\\textcolor{red}{b}$.\n",
    "\n",
    "$$\n",
    "\\pdt{u} + u \\pd{u}{x} + w \\pd{u}{z}= - \\pd{P}{x}\n",
    "$$\n",
    "\n",
    "$$\n",
    "\\pdt{w} + u \\pd{w}{x} + w \\pd{w}{z}= - \\pd{P}{y} + \\textcolor{red}{b}\n",
    "$$\n",
    "\n",
    "$$\n",
    "\\delta \\equiv \\pd{u}{x} + \\pd{w}{z}  = 0\n",
    "$$\n",
    "\n",
    "With the density anomaly conserved in a parcel, or $\\ddt{b}$=0:\n",
    "$$\n",
    "\\pdt{b} = -u \\pd{b}{x} - w \\pd{b}{z}\n",
    "$$"
   ]
  },
  {
   "cell_type": "markdown",
   "metadata": {},
   "source": [
    "## The pressure solver\n",
    "\n",
    "To solve for pressure that maintains $\\delta=0$ at each time step, \n",
    "the divergence of local acceleration should be kept close to zero at each time step:\n",
    "\n",
    "$$ \\delta=0 \\quad \\Rightarrow \\quad\n",
    "\\pdt{\\delta} = \\pd{}{x}\\pdt{u}+\\pd{}{z}\\pdt{w} = 0\n",
    "$$\n",
    "\n",
    "At each time step, after the accelerations (advection, buoyancy, viscosity , ...)\n",
    "except a pressure-gradient force are accumlated, we solve for the pressure field that gives a pressure-gradient force that will keep $\\pdt{\\delta}=0$.\n",
    "\n",
    "The normal component of velocity at the boundaries remains zero, so the boundary conditions in the Poisson equation on a [0,1] domain are:\n",
    "\n",
    "$$\n",
    "\\pd{P}{x}(0,z,t)=0 \\qquad \\pd{P}{x}(1,z,t)=0\n",
    "\\qquad \\pd{P}{z}(x,0,t)=0 \\qquad \\pd{P}{z}(x,1,t)=0\n",
    "$$\n",
    "\n",
    "With these boundary conditions, we seek a Fourier solution as we did in the stream-function-vorticity method \n",
    "for $\\psi$,\n",
    "but with cosine function instead of sine functions:\n",
    "\n",
    "$$\n",
    "P(x,y) = \\sum_{k,m} B_{k,m} \\cos(kx)\\cos(my)\n",
    "$$"
   ]
  },
  {
   "cell_type": "markdown",
   "metadata": {},
   "source": [
    "### C-grid\n",
    "\n",
    "All velocity components are staggered from each other,\n",
    "and placed relative to $p$ so the divergence is easily calculated, with no averaging.\n",
    "Likewise, the required component of the pressure-gradient force is obtained by\n",
    "simple differencing of $p$.\n",
    "\n",
    "<pre>\n",
    "-v-v-\n",
    "upupu\n",
    "-v-v-\n",
    "upupu\n",
    "-v-v-\n",
    "</pre>\n",
    "\n",
    "We use a vertical plane in which `w` replaces `v` in the schematic for the C-grid.\n",
    "Also, `b` resides on the w-grid.  \n",
    "\n",
    "A drawback of the \"C-grid\" is the advection terms (as modelled by us) require some averaging\n",
    "to co-locate all variables onto a grid where the advection term is being calculated. Also,\n",
    "when a vector is plotted, we average the velocity components to the p-grid. "
   ]
  },
  {
   "cell_type": "markdown",
   "metadata": {},
   "source": [
    "## Functions"
   ]
  },
  {
   "cell_type": "code",
   "execution_count": 3,
   "metadata": {
    "scrolled": false
   },
   "outputs": [],
   "source": [
    "# Expands the margins of a matplotlib axis, \n",
    "# and so prevents arrows on boundaries from being clipped. \n",
    "def stop_clipping(ax,marg=.02): # default is 2% increase\n",
    "    l,r,b,t = ax.axis()\n",
    "    dx,dy = r-l, t-b\n",
    "    ax.axis([l-marg*dx, r+marg*dx, b-marg*dy, t+marg*dy])"
   ]
  },
  {
   "cell_type": "code",
   "execution_count": 4,
   "metadata": {
    "scrolled": false
   },
   "outputs": [],
   "source": [
    "# Adams-Bashforth time stepping requires a list of past time derivatives, stored \n",
    "# in order from present to the past\n",
    "def ab_blend(dqdt,order):\n",
    "    if order==1:\n",
    "        return dqdt[0]\n",
    "    elif order==2:\n",
    "        return 1.5*dqdt[0]-.5*dqdt[1]\n",
    "    elif order==3:\n",
    "        return (23*dqdt[0]-16*dqdt[1]+5*dqdt[2])/12.\n",
    "    else:\n",
    "        print(\"order\", order ,\" not supported \")       "
   ]
  },
  {
   "cell_type": "code",
   "execution_count": 5,
   "metadata": {
    "scrolled": false
   },
   "outputs": [],
   "source": [
    "# third-order upwind advection\n",
    "def advect(q,u,v,dx,dy): \n",
    "# q,u,v are co-located by a prior call to interpolators    \n",
    "    dqdt = np.zeros(q.shape)\n",
    "    \n",
    "    dqmx = np.zeros(q.shape)\n",
    "    dqpx = np.zeros(q.shape)\n",
    "    dqmy = np.zeros(q.shape)\n",
    "    dqpy = np.zeros(q.shape)\n",
    "    \n",
    "    dqmx[:,1]  = -q[:,0] + q[:,1] # 1st order, plus side at left wall\n",
    "    dqmx[:,2:-1] = (q[:,:-3] - 6*q[:,1:-2] + 3*q[:,2:-1] + 2*q[:,3:])/6. # 3rd order, minus side\n",
    "    dqpx[:,-2] = -q[:,-2] + q[:,-1] # 1st order, plus side at right wall\n",
    "    dqpx[:,1:-2] = (-2*q[:,0:-3] - 3*q[:,1:-2] + 6*q[:,2:-1] -1*q[:,3:])/6. #3rd order, plus side\n",
    "\n",
    "    dqmy[1,:]  = -q[0,:] + q[1,:] # 1st order, minus side at bottom wall\n",
    "    dqmy[2:-1,:] =  (q[:-3,:] - 6*q[1:-2,:] + 3*q[2:-1,:] + 2*q[3:,:])/6. # 3rd order, minus side\n",
    "    dqpy[-2,:] = -q[-2,:] + q[-1,:] # 1st order, plus side at top wall\n",
    "    dqpy[1:-2,:] = ( - 2*q[0:-3,:]  - 3*q[1:-2,:] + 6*q[2:-1,:] - q[3:,:] )/6. # 3rd order, plus side\n",
    "\n",
    "\n",
    "    dqdx = np.where(u>0.,dqmx,dqpx)/dx # upwind, emphasize side from where fluid is coming from\n",
    "    dqdy = np.where(v>0.,dqmy,dqpy)/dy # ditto\n",
    "    \n",
    "    dqdt += -u*dqdx\n",
    "    dqdt += -v*dqdy\n",
    "    \n",
    "    return dqdt"
   ]
  },
  {
   "cell_type": "code",
   "execution_count": 6,
   "metadata": {
    "scrolled": false
   },
   "outputs": [],
   "source": [
    "# Poisson solvers via fft method \n",
    "def poisson_p_fft_prep(Nxp,Nyp,dx,dy,lapl='discrete'):\n",
    "# returns the coefficients to multiply the vorticity Fourier amplitudes    \n",
    "    L = dx*Nxp\n",
    "    W = dy*Nyp\n",
    "   \n",
    "    Ka = np.arange(Nxp)  # the integer wavenumbers of the cos functions in the x-direction\n",
    "    Ma = np.arange(Nyp)  # the integer wavenumbers of the cos functions in the y-direction (z if input is z) \n",
    "    \n",
    "    ka = Ka*np.pi/L\n",
    "    ma = Ma*np.pi/W\n",
    "\n",
    "    lapl_op =np.zeros((Nyp,Nxp)) \n",
    "    if lapl == 'discrete':\n",
    "        lapl_op[:] = (2*np.cos(ka*dx)-2)/dx**2 # add to every row\n",
    "    else: # the calculus Laplacian\n",
    "        lapl_op[:] += -ka**2\n",
    "    lapl_opT = lapl_op.T # reverse columns and rows\n",
    "    if lapl == 'discrete':\n",
    "        lapl_opT[:] += (2*np.cos(ma*dy)-2)/dy**2 # add to every row\n",
    "    else: # the calculus Laplacian\n",
    "        lapl_opT[:] += -ma**2\n",
    "    lapl_op = lapl_opT.T # reverse columns and rows\n",
    "    lapl_op[0,0] = 1. # to present division by zero. Because we make p.mean()=0, any number okay\n",
    "    invlapl = 1./lapl_op #the coefficents for multiplying the vorticity Fourier amplitudes\n",
    "    return invlapl\n",
    "\n",
    "def poisson_p_fft(div,invlapl):\n",
    "    sh = div.shape\n",
    "    divt = scipy.fftpack.dct( div , axis=1, type=2) # discrete cos transform of rows of div\n",
    "    divt = scipy.fftpack.dct( divt , axis=0, type=2) # discrete cos transform of rows of div\n",
    "    \n",
    "    pt=divt*invlapl\n",
    "    \n",
    "    pt = scipy.fftpack.idct(pt,axis=0,type=2) # inverse transform of pt to p\n",
    "    p = scipy.fftpack.idct(pt,axis=1,type=2) # inverse transform of pt to p\n",
    "    p = p/(4*sh[0]*sh[1]) #The need for division is convention of fft\n",
    "    p = p - p.mean()\n",
    "    return p     "
   ]
  },
  {
   "cell_type": "code",
   "execution_count": 7,
   "metadata": {
    "scrolled": false
   },
   "outputs": [],
   "source": [
    "# Grid destaggerers, divergence, Laplacian for staggered grids \n",
    "# from U-grid variable to the p-grid:\n",
    "def U_to_p(U):\n",
    "    return .25*( U[:-1,1:] + U[1:,1:] + U[:-1,:-1] + U[1:,:-1])\n",
    "##### w-grid to u-grid:\n",
    "def w_to_u(w):\n",
    "    iz,ix = w.shape\n",
    "    atu=np.zeros((iz-1,ix+1))\n",
    "    atu[:,1:-1] = .25*( w[:-1,:-1] + w[:-1,1:] + w[1:,:-1] + w[1:,1:] )\n",
    "    atu[:,0] = atu[:,1]\n",
    "    atu[:,-1] = atu[:,-2]\n",
    "    return atu\n",
    "def u_to_w(u):\n",
    "    iz,ix = u.shape\n",
    "    atw=np.zeros((iz+1,ix-1))\n",
    "    atw[1:-1,:] = .25*( u[:-1,:-1] + u[:-1,1:] + u[1:,:-1] + u[1:,1:] )\n",
    "    atw[0,:] = atw[1,:]\n",
    "    atw[-1,:] = atw[-2,:]\n",
    "    return atw\n",
    "def v_to_u(v): # v is on p-grid, this is same as p_to_u\n",
    "    iz,ix = v.shape\n",
    "    atu = np.zeros((iz,ix+1))\n",
    "    atu[:,1:-1] = .5*( v[:,:-1] + v[:,1:] )\n",
    "    atu[:,0] = atu[:,1]\n",
    "    atu[:,-1] = atu[:,-2]\n",
    "    return atu\n",
    "def u_to_p(u):\n",
    "    return (u[:,:-1] + u[:,1:] )*.5\n",
    "def w_to_p(w):\n",
    "    return (w[:-1,:] + w[1:,:] )*.5\n",
    "#############################################################\n",
    "def divergence(u,v,dx,dy):\n",
    "    ush = u.shape\n",
    "    vsh = v.shape\n",
    "    if ush == vsh: # must be B-grid\n",
    "        div = .5*( u[:-1,1:] + u[1:,1:] - u[:-1,:-1] - u[1:,:-1])/dx + \\\n",
    "              .5*( v[1:,:-1] + v[1:,1:] - v[:-1,:-1] - v[:-1,1:])/dy\n",
    "    elif ush[1]-vsh[1] == 1 and vsh[0]-ush[0] == 1: #must be C-grid\n",
    "        div = (u[:,1:]-u[:,:-1])/dx + (v[1:,:]-v[:-1,:])/dy\n",
    "    else:\n",
    "        print(\"Fail divergence. Array shape implies neither B-grid or C-grid\")\n",
    "    return div\n",
    "#############################################\n",
    "def laplacian(p,dx,dy,il=None, ir=None, jb=None, jt=None):\n",
    "# Returns Laplacian of p, d^2p/dx^2 + d^2/dy^2.\n",
    "# If needed, specify how to grab the image of a point outside\n",
    "# the domain.  Otherwise, the d^2p/dx^2 or d^2/dy^2 term is not included\n",
    "# on the boundary.  \n",
    "    rdx2 = 1./(dx*dx)\n",
    "    rdy2 = 1./(dy*dy)\n",
    "    lapl = np.zeros(p.shape)\n",
    "    lapl[:,1:-1]  =  rdx2*( p[:,:-2] -2*p[:,1:-1] + p[:,2:] )\n",
    "    lapl[1:-1,:] +=  rdy2*( p[:-2,:] -2*p[1:-1,:] + p[2:,:] ) \n",
    "    if il in [-2,-1,0,1]:    \n",
    "        lapl[:,0]  +=  rdx2*( p[:,il] -2*p[:,0] + p[:,1] ) \n",
    "    if ir in [-2,-1,0,1]:    \n",
    "        lapl[:,-1] +=  rdx2*( p[:,-2] -2*p[:,-1] + p[:,ir] )\n",
    "    if jb in [-2,-1,0,1]:\n",
    "        lapl[0,:]  +=  rdy2*( p[jb,: ] -2*p[0,:] + p[1,:] ) \n",
    "    if jt in [-2,-1,0,1]:\n",
    "        lapl[-1,:] +=  rdy2*( p[-2,: ] -2*p[-1,:] + p[jt,:] ) \n",
    "    return lapl\n",
    "#############################################################\n",
    "def vortU(u,v,dx,dy):\n",
    "    # dv/dx - du/dy at U-grid\n",
    "    ush = u.shape\n",
    "    vsh = v.shape\n",
    "    if ush == vsh: # must be B-grid\n",
    "        vort = np.zeros(ush)\n",
    "        vort[1:-1,1:-1] =  (v[1:-1,2:] - v[1:-1,:-2])/(2*dx) - (u[2:,1:-1] - u[:-2,1:-1])/(2*dy)\n",
    "    elif ush[1]-vsh[1] == 1 and vsh[0]-ush[0] == 1: #must be C-grid\n",
    "        vort = np.zeros( (vsh[0], ush[1]) ) # U-grid is largest\n",
    "        vort[1:-1,1:-1] =  (v[1:-1,1:]-v[1:-1,:-1])/dx - (u[1:,1:-1]-u[:-1,1:-1])/dy\n",
    "    else:\n",
    "        print(\"Fail vortU. Array shape implies neither B-grid or C-grid\")\n",
    "    return vort"
   ]
  },
  {
   "cell_type": "markdown",
   "metadata": {},
   "source": [
    "## Set up the grid, domain is nondimensional as [0,1]  \n",
    "\n",
    "In the first step we specify the U-grid.  The other grids follow from the U-grid. Select a grid size that allows the Poisson solver to be fast. 2<sup>n</sup> +1 for `Nx` and `Nz` seems to be ideal for the U-grid.\n"
   ]
  },
  {
   "cell_type": "code",
   "execution_count": 8,
   "metadata": {
    "scrolled": false
   },
   "outputs": [],
   "source": [
    "# make the U-grid\n",
    "Nx = 257 # number of x grid points for U\n",
    "Nz = 129 # number of z grid points for W\n",
    "xmax = 1. # 0 <= x <= xmax\n",
    "zmax = 1.\n",
    "dx = xmax/(Nx-1.) \n",
    "dz = zmax/(Nz-1.)\n",
    "x1U = np.linspace(0,xmax,Nx)\n",
    "z1U = np.linspace(0,zmax,Nz)\n",
    "xU,zU = np.meshgrid(x1U,z1U)"
   ]
  },
  {
   "cell_type": "code",
   "execution_count": 9,
   "metadata": {
    "scrolled": false
   },
   "outputs": [],
   "source": [
    "# The x and z locations of the grid points for the variables:\n",
    "xp = U_to_p(xU)\n",
    "zp = U_to_p(zU)\n",
    "xw = 0.5*( xU[:,:-1] + xU[:,1:] )\n",
    "zw = 0.5*( zU[:,:-1] + zU[:,1:] )\n",
    "xb = xw\n",
    "zb = zw\n",
    "xu = 0.5*( xU[:-1,:] + xU[1:,:] )\n",
    "zu = 0.5*( zU[:-1,:] + zU[1:,:] )"
   ]
  },
  {
   "cell_type": "code",
   "execution_count": 10,
   "metadata": {
    "scrolled": false
   },
   "outputs": [],
   "source": [
    "# A matrix of the inverse Laplacian, calculated once and used throughout the notebook.\n",
    "invlapl = poisson_p_fft_prep(Nx-1,Nz-1,dx,dz,lapl='discrete') # lapl='calculus' or lapl='discrete'"
   ]
  },
  {
   "cell_type": "markdown",
   "metadata": {},
   "source": [
    "<a name=\"initial\"></a>\n",
    "# Specify initial buoyancy and background u shear:"
   ]
  },
  {
   "cell_type": "code",
   "execution_count": 34,
   "metadata": {
    "scrolled": true
   },
   "outputs": [],
   "source": [
    "# Initial buoyancy, is also equal to a MAINTAINED b SOURCE acting for 1 unit of time; and background shear  \n",
    "\n",
    "bi = xb.copy()*0 \n",
    "centerx = round(xb.shape[1]/2); bi[10,40] = 100 # don't worry, it will be smoothed in a minute\n",
    "\n",
    "from scipy import ndimage\n",
    "bi = ndimage.filters.gaussian_filter(bi, 5)\n",
    "\n",
    "# Maintained source only, no initial bubble\n",
    "bsource = bi\n",
    "bi=bi*0.\n",
    "\n",
    "# Background shear velocity: equal to z/4 initially (magnitude 0-0.25)\n",
    "Uu = zu.copy() /4.\n",
    "Uw = zw.copy() /4.\n",
    "\n",
    "diffusion_coef = 0. # also try 1.e-4 ?"
   ]
  },
  {
   "cell_type": "code",
   "execution_count": 35,
   "metadata": {},
   "outputs": [
    {
     "data": {
      "text/plain": [
       "(129, 256)"
      ]
     },
     "execution_count": 35,
     "metadata": {},
     "output_type": "execute_result"
    }
   ],
   "source": [
    "xb.shape"
   ]
  },
  {
   "cell_type": "code",
   "execution_count": 36,
   "metadata": {
    "scrolled": false
   },
   "outputs": [
    {
     "name": "stdout",
     "output_type": "stream",
     "text": [
      "div before pgf: 0.0\n",
      "div after pgf: 0.0\n"
     ]
    }
   ],
   "source": [
    "# Use the initial buoyancy and acceleration to test that\n",
    "# the calculation of pressure enforces non-divergence.\n",
    "dwdt = bi.copy()\n",
    "dudt = 0.*xu\n",
    "\n",
    "### next three lines are also in the forecast loop\n",
    "lapl_of_p = divergence(dudt,dwdt,dx,dz) \n",
    "p = poisson_p_fft(lapl_of_p, invlapl) \n",
    "p -= p.mean()\n",
    "####\n",
    "dudt[:,1:-1] += (p[:,:-1]-p[:,1:])/dx\n",
    "dwdt[1:-1,:] += (p[:-1,:]-p[1:,:])/dz\n",
    "div_after = divergence(dudt,dwdt,dx,dz)\n",
    "print(\"div before pgf:\", (lapl_of_p**2).mean() )\n",
    "print(\"div after pgf:\", (div_after**2).mean() )"
   ]
  },
  {
   "cell_type": "code",
   "execution_count": 37,
   "metadata": {
    "scrolled": false
   },
   "outputs": [
    {
     "name": "stderr",
     "output_type": "stream",
     "text": [
      "//anaconda/envs/drilsdown/lib/python3.6/site-packages/matplotlib/contour.py:1173: UserWarning: No contour levels were found within the data range.\n",
      "  warnings.warn(\"No contour levels were found\"\n"
     ]
    },
    {
     "data": {
      "image/png": "[encoded data removed]",
      "text/plain": [
       "<Figure size 1440x720 with 1 Axes>"
      ]
     },
     "metadata": {},
     "output_type": "display_data"
    }
   ],
   "source": [
    "# Look at how pressure enforces non-divergence\n",
    "# as the buoyant blob starts to rise.\n",
    "quick,simple = plt.subplots(figsize=(20,10))\n",
    "\n",
    "#simple.contourf(xb,zb,bi,20) \n",
    "simple.pcolor(xw,zw,bsource)\n",
    "\n",
    "simple.contour(xw,zw,dwdt,10,colors=['r',]) \n",
    "simple.contour(xu,zu,dudt,10,colors=['g',])\n",
    "simple.contour(xp,zp,p,10,colors=['w',])\n",
    "simple.set_title('white:pressure   red:dwdt   green:dudt');"
   ]
  },
  {
   "cell_type": "code",
   "execution_count": 15,
   "metadata": {},
   "outputs": [
    {
     "data": {
      "text/plain": [
       "<matplotlib.colorbar.Colorbar at 0x109ab5860>"
      ]
     },
     "execution_count": 15,
     "metadata": {},
     "output_type": "execute_result"
    },
    {
     "data": {
      "image/png": "[encoded data removed]",
      "text/plain": [
       "<Figure size 432x288 with 2 Axes>"
      ]
     },
     "metadata": {},
     "output_type": "display_data"
    }
   ],
   "source": [
    "plt.pcolor(xu,zu,Uu); plt.colorbar()"
   ]
  },
  {
   "cell_type": "markdown",
   "metadata": {},
   "source": [
    "<hr/>\n",
    "## Set up the animation plot:"
   ]
  },
  {
   "cell_type": "code",
   "execution_count": 16,
   "metadata": {
    "scrolled": true
   },
   "outputs": [
    {
     "name": "stdout",
     "output_type": "stream",
     "text": [
      "contour levels for buoyancy: [-0.25  0.05  0.15  0.25  0.35  0.45  0.55  0.65  0.75  0.85  0.95  1.25]\n",
      "contour levels for pressure: [-0.4        -0.38987342 -0.37974684 -0.36962025 -0.35949367 -0.34936709\n",
      " -0.33924051 -0.32911392 -0.31898734 -0.30886076 -0.29873418 -0.28860759\n",
      " -0.27848101 -0.26835443 -0.25822785 -0.24810127 -0.23797468 -0.2278481\n",
      " -0.21772152 -0.20759494 -0.19746835 -0.18734177 -0.17721519 -0.16708861\n",
      " -0.15696203 -0.14683544 -0.13670886 -0.12658228 -0.1164557  -0.10632911\n",
      " -0.09620253 -0.08607595 -0.07594937 -0.06582278 -0.0556962  -0.04556962\n",
      " -0.03544304 -0.02531646 -0.01518987 -0.00506329  0.00506329  0.01518987\n",
      "  0.02531646  0.03544304  0.04556962  0.0556962   0.06582278  0.07594937\n",
      "  0.08607595  0.09620253  0.10632911  0.1164557   0.12658228  0.13670886\n",
      "  0.14683544  0.15696203  0.16708861  0.17721519  0.18734177  0.19746835\n",
      "  0.20759494  0.21772152  0.2278481   0.23797468  0.24810127  0.25822785\n",
      "  0.26835443  0.27848101  0.28860759  0.29873418  0.30886076  0.31898734\n",
      "  0.32911392  0.33924051  0.34936709  0.35949367  0.36962025  0.37974684\n",
      "  0.38987342  0.4       ]\n",
      "contour levels for vorticity: [-42. -38. -34. -30. -26. -22. -18. -14. -10.  -6.  -2.   2.   6.  10.\n",
      "  14.  18.  22.  26.  30.  34.  38.  42.]\n"
     ]
    }
   ],
   "source": [
    "# specify paramters for the animation plot\n",
    "vd = 4 # vector skip in arrow plots (vd=1 would plot all arrows)\n",
    "\n",
    "buoylevs = np.linspace(-.05,1.05,12)\n",
    "buoylevs[0] = -.25  # extend level to prevent advection errors going off the scale\n",
    "buoylevs[-1] = 1.25 # extend level to prevent advection errors going off the scale\n",
    "print('contour levels for buoyancy:',buoylevs)\n",
    "\n",
    "preslevs = np.linspace(-.4,.4,80) # avoid 0 contour \n",
    "print('contour levels for pressure:',preslevs)\n",
    "\n",
    "vortamp = 40 # for possible plotting of vorticity, change vortamp as needed\n",
    "vortlevs = np.linspace(-1.05*vortamp,1.05*vortamp,22)\n",
    "print('contour levels for vorticity:',vortlevs)"
   ]
  },
  {
   "cell_type": "code",
   "execution_count": 17,
   "metadata": {
    "scrolled": false
   },
   "outputs": [],
   "source": [
    "# set up figure for animation during integration \n",
    "myfig = plt.figure(figsize=(20,10),facecolor='lightgrey')\n",
    "ax2 = myfig.add_axes([0.1, 0.1, 0.8, .8], frameon=False) # contour axes\n",
    "ax3 = myfig.add_axes([0.0, 0.1, 0.08, .8]) # for colorbar\n",
    "ax3.axis('off')\n",
    "ax2.axis('off')\n",
    "plt.setp( ax2.get_xticklabels(), visible=False);\n",
    "plt.close()\n",
    "cbar_exists = False # so it will be created, once, and then remain fixed "
   ]
  },
  {
   "cell_type": "code",
   "execution_count": 18,
   "metadata": {
    "scrolled": false
   },
   "outputs": [],
   "source": [
    "def doplot():\n",
    "    global cbar_exists\n",
    "    matplotlib.rcParams.update({'font.size': 22})\n",
    "    ax2.clear()\n",
    "    \n",
    "    # Image layer \n",
    "    # CF = ax2.contourf(xb,zb,b,buoylevs,zorder=2)\n",
    "    CF = ax2.pcolor(xb,zb,b)\n",
    "    \n",
    "    # contour vort or p:\n",
    "    #vort = vortU(u,w,dx,dz)\n",
    "    #ax2.contour(xU,zU,vort,vortlevs,colors=('w',),zorder=4)\n",
    "    ax2.contour(xp,zp,p,preslevs,colors=('w',),zorder=4)\n",
    "    \n",
    "# Different flavors of pressure \n",
    "    ax2.contour(xp,zp,pdyn,preslevs/10,colors=('y',),zorder=4)\n",
    "    ax2.contour(xp,zp,pb,preslevs,colors=('r',),zorder=4)\n",
    "\n",
    "    ax2.axis('off')\n",
    "    \n",
    "    # arrows \n",
    "    up = u_to_p(u)\n",
    "    wp = w_to_p(w)\n",
    "    Q = ax2.quiver(xp[::vd,::vd],zp[::vd,::vd],up[::vd,::vd]*zmax/xmax,wp[::vd,::vd],\n",
    "            scale=0.5*speedmax*Nx/vd,units='width',zorder=3)\n",
    "    ax2.text(.5,-.05,expt,fontsize=18)\n",
    "    ax2.text(.05,-.05,'t={0:5.3f}'.format(t),fontsize=22)\n",
    "    speedf = \"%7.3f\"  % speedmax\n",
    "    stop_clipping(ax2)\n",
    "    ax2.quiverkey(Q,-.1,.95,speedmax,speedf,zorder=4)\n",
    "    \n",
    "    # set up color bar, if it wasn't already \n",
    "    if not cbar_exists:\n",
    "        mycbar = myfig.colorbar(CF,ax=ax3,fraction=0.4)\n",
    "        mycbar.ax.yaxis.set_ticks_position('left')\n",
    "        sooner = mycbar.ax.yaxis.get_ticklabels()\n",
    "        for boomer in sooner:\n",
    "            boomer.set_fontsize(12)\n",
    "        cbar_exists = True\n",
    "        \n",
    "    clear_output(wait=True)\n",
    "    display(myfig)\n",
    "    \n",
    "    if outdir: \n",
    "        timestamp = 100*round(t,2)\n",
    "        pngname = outdir+'/%06d.png' % round(timestamp) \n",
    "        myfig.savefig(pngname, dpi=72, facecolor='w', edgecolor='w', orientation='portrait')"
   ]
  },
  {
   "cell_type": "markdown",
   "metadata": {},
   "source": [
    "<hr/>\n",
    "## Set parameters for the numerical solution:"
   ]
  },
  {
   "cell_type": "code",
   "execution_count": 19,
   "metadata": {
    "scrolled": false
   },
   "outputs": [],
   "source": [
    "outdir = 'frames' # set = to a directory name, if you want to save png, = None if not.\n",
    "if outdir and not os.path.exists(outdir): os.mkdir(outdir)"
   ]
  },
  {
   "cell_type": "code",
   "execution_count": 20,
   "metadata": {
    "scrolled": true
   },
   "outputs": [
    {
     "name": "stdout",
     "output_type": "stream",
     "text": [
      "257,0.30,0.00000\n"
     ]
    }
   ],
   "source": [
    "speedmax = 1.0 # estimated maximum speed that will occur\n",
    "cfl = .3 # if parcel moves at speedmax, fraction of dx it is allowed to traverse \n",
    "dt = cfl*dx/speedmax # restrict dt by cfl choice\n",
    "div_reduce = 0. # try 0.1\n",
    "aborder = 3 # Adams-Bashforth order: 1, 2 or 3\n",
    "expt = '%d,%4.2f,%7.5f' % (Nx, cfl, diffusion_coef)\n",
    "print(expt)"
   ]
  },
  {
   "cell_type": "markdown",
   "metadata": {},
   "source": [
    "<hr>\n",
    "##  Start from t=0:"
   ]
  },
  {
   "cell_type": "code",
   "execution_count": 39,
   "metadata": {
    "scrolled": false
   },
   "outputs": [],
   "source": [
    "u = 0.*xu\n",
    "#u = Uu.copy() U is background only \n",
    "w = 0.*xw\n",
    "p = 0.*xp\n",
    "b = bi.copy()\n",
    "\n",
    "dudta = [None]*3\n",
    "dwdta = [None]*3\n",
    "dbdta = [None]*3 \n",
    "\n",
    "nstep = 0\n",
    "\n",
    "vstore1 = []\n",
    "vstore2 = []\n",
    "vstore3 = []\n",
    "vstore4 = []\n",
    "tstore = []\n",
    "\n",
    "t=0. \n",
    "\n",
    "# doplot()"
   ]
  },
  {
   "cell_type": "markdown",
   "metadata": {},
   "source": [
    "<hr/>\n",
    "## Run the model:\n"
   ]
  },
  {
   "cell_type": "code",
   "execution_count": 40,
   "metadata": {
    "scrolled": false
   },
   "outputs": [
    {
     "name": "stdout",
     "output_type": "stream",
     "text": [
      "0.001171875\n"
     ]
    }
   ],
   "source": [
    "tstop = 4\n",
    "dplot = .1 # time between plots\n",
    "tplot = t # time for next plot \n",
    "print(dt)"
   ]
  },
  {
   "cell_type": "code",
   "execution_count": 41,
   "metadata": {
    "scrolled": false
   },
   "outputs": [
    {
     "data": {
      "image/png": "[encoded data removed]",
      "text/plain": [
       "<Figure size 1440x720 with 3 Axes>"
      ]
     },
     "metadata": {},
     "output_type": "display_data"
    },
    {
     "ename": "FileNotFoundError",
     "evalue": "[Errno 2] No such file or directory: 'frames/000000.png'",
     "output_type": "error",
     "traceback": [
      "\u001b[0;31m---------------------------------------------------------------------------\u001b[0m",
      "\u001b[0;31mFileNotFoundError\u001b[0m                         Traceback (most recent call last)",
      "\u001b[0;32m<ipython-input-41-e4072a6e3606>\u001b[0m in \u001b[0;36m<module>\u001b[0;34m()\u001b[0m\n\u001b[1;32m     67\u001b[0m         \u001b[0;31m# pdyn = p-pb\u001b[0m\u001b[0;34m\u001b[0m\u001b[0;34m\u001b[0m\u001b[0m\n\u001b[1;32m     68\u001b[0m \u001b[0;34m\u001b[0m\u001b[0m\n\u001b[0;32m---> 69\u001b[0;31m         \u001b[0mdoplot\u001b[0m\u001b[0;34m(\u001b[0m\u001b[0;34m)\u001b[0m \u001b[0;31m# contours of pd and pb were added to doplot()\u001b[0m\u001b[0;34m\u001b[0m\u001b[0m\n\u001b[0m\u001b[1;32m     70\u001b[0m         \u001b[0mtplot\u001b[0m \u001b[0;34m=\u001b[0m \u001b[0mmin\u001b[0m\u001b[0;34m(\u001b[0m\u001b[0mtstop\u001b[0m\u001b[0;34m,\u001b[0m\u001b[0mtplot\u001b[0m \u001b[0;34m+\u001b[0m \u001b[0mdplot\u001b[0m\u001b[0;34m)\u001b[0m\u001b[0;34m\u001b[0m\u001b[0m\n\u001b[1;32m     71\u001b[0m \u001b[0;34m\u001b[0m\u001b[0m\n",
      "\u001b[0;32m<ipython-input-18-2ae7b7123f4d>\u001b[0m in \u001b[0;36mdoplot\u001b[0;34m()\u001b[0m\n\u001b[1;32m     45\u001b[0m         \u001b[0mtimestamp\u001b[0m \u001b[0;34m=\u001b[0m \u001b[0;36m100\u001b[0m\u001b[0;34m*\u001b[0m\u001b[0mround\u001b[0m\u001b[0;34m(\u001b[0m\u001b[0mt\u001b[0m\u001b[0;34m,\u001b[0m\u001b[0;36m2\u001b[0m\u001b[0;34m)\u001b[0m\u001b[0;34m\u001b[0m\u001b[0m\n\u001b[1;32m     46\u001b[0m         \u001b[0mpngname\u001b[0m \u001b[0;34m=\u001b[0m \u001b[0moutdir\u001b[0m\u001b[0;34m+\u001b[0m\u001b[0;34m'/%06d.png'\u001b[0m \u001b[0;34m%\u001b[0m \u001b[0mround\u001b[0m\u001b[0;34m(\u001b[0m\u001b[0mtimestamp\u001b[0m\u001b[0;34m)\u001b[0m\u001b[0;34m\u001b[0m\u001b[0m\n\u001b[0;32m---> 47\u001b[0;31m         \u001b[0mmyfig\u001b[0m\u001b[0;34m.\u001b[0m\u001b[0msavefig\u001b[0m\u001b[0;34m(\u001b[0m\u001b[0mpngname\u001b[0m\u001b[0;34m,\u001b[0m \u001b[0mdpi\u001b[0m\u001b[0;34m=\u001b[0m\u001b[0;36m72\u001b[0m\u001b[0;34m,\u001b[0m \u001b[0mfacecolor\u001b[0m\u001b[0;34m=\u001b[0m\u001b[0;34m'w'\u001b[0m\u001b[0;34m,\u001b[0m \u001b[0medgecolor\u001b[0m\u001b[0;34m=\u001b[0m\u001b[0;34m'w'\u001b[0m\u001b[0;34m,\u001b[0m \u001b[0morientation\u001b[0m\u001b[0;34m=\u001b[0m\u001b[0;34m'portrait'\u001b[0m\u001b[0;34m)\u001b[0m\u001b[0;34m\u001b[0m\u001b[0m\n\u001b[0m",
      "\u001b[0;32m//anaconda/envs/drilsdown/lib/python3.6/site-packages/matplotlib/figure.py\u001b[0m in \u001b[0;36msavefig\u001b[0;34m(self, fname, **kwargs)\u001b[0m\n\u001b[1;32m   2033\u001b[0m             \u001b[0mself\u001b[0m\u001b[0;34m.\u001b[0m\u001b[0mset_frameon\u001b[0m\u001b[0;34m(\u001b[0m\u001b[0mframeon\u001b[0m\u001b[0;34m)\u001b[0m\u001b[0;34m\u001b[0m\u001b[0m\n\u001b[1;32m   2034\u001b[0m \u001b[0;34m\u001b[0m\u001b[0m\n\u001b[0;32m-> 2035\u001b[0;31m         \u001b[0mself\u001b[0m\u001b[0;34m.\u001b[0m\u001b[0mcanvas\u001b[0m\u001b[0;34m.\u001b[0m\u001b[0mprint_figure\u001b[0m\u001b[0;34m(\u001b[0m\u001b[0mfname\u001b[0m\u001b[0;34m,\u001b[0m \u001b[0;34m**\u001b[0m\u001b[0mkwargs\u001b[0m\u001b[0;34m)\u001b[0m\u001b[0;34m\u001b[0m\u001b[0m\n\u001b[0m\u001b[1;32m   2036\u001b[0m \u001b[0;34m\u001b[0m\u001b[0m\n\u001b[1;32m   2037\u001b[0m         \u001b[0;32mif\u001b[0m \u001b[0mframeon\u001b[0m\u001b[0;34m:\u001b[0m\u001b[0;34m\u001b[0m\u001b[0m\n",
      "\u001b[0;32m//anaconda/envs/drilsdown/lib/python3.6/site-packages/matplotlib/backend_bases.py\u001b[0m in \u001b[0;36mprint_figure\u001b[0;34m(self, filename, dpi, facecolor, edgecolor, orientation, format, **kwargs)\u001b[0m\n\u001b[1;32m   2261\u001b[0m                 \u001b[0morientation\u001b[0m\u001b[0;34m=\u001b[0m\u001b[0morientation\u001b[0m\u001b[0;34m,\u001b[0m\u001b[0;34m\u001b[0m\u001b[0m\n\u001b[1;32m   2262\u001b[0m                 \u001b[0mbbox_inches_restore\u001b[0m\u001b[0;34m=\u001b[0m\u001b[0m_bbox_inches_restore\u001b[0m\u001b[0;34m,\u001b[0m\u001b[0;34m\u001b[0m\u001b[0m\n\u001b[0;32m-> 2263\u001b[0;31m                 **kwargs)\n\u001b[0m\u001b[1;32m   2264\u001b[0m         \u001b[0;32mfinally\u001b[0m\u001b[0;34m:\u001b[0m\u001b[0;34m\u001b[0m\u001b[0m\n\u001b[1;32m   2265\u001b[0m             \u001b[0;32mif\u001b[0m \u001b[0mbbox_inches\u001b[0m \u001b[0;32mand\u001b[0m \u001b[0mrestore_bbox\u001b[0m\u001b[0;34m:\u001b[0m\u001b[0;34m\u001b[0m\u001b[0m\n",
      "\u001b[0;32m//anaconda/envs/drilsdown/lib/python3.6/site-packages/matplotlib/backends/backend_agg.py\u001b[0m in \u001b[0;36mprint_png\u001b[0;34m(self, filename_or_obj, *args, **kwargs)\u001b[0m\n\u001b[1;32m    524\u001b[0m \u001b[0;34m\u001b[0m\u001b[0m\n\u001b[1;32m    525\u001b[0m         \u001b[0;32mtry\u001b[0m\u001b[0;34m:\u001b[0m\u001b[0;34m\u001b[0m\u001b[0m\n\u001b[0;32m--> 526\u001b[0;31m             \u001b[0;32mwith\u001b[0m \u001b[0mcbook\u001b[0m\u001b[0;34m.\u001b[0m\u001b[0mopen_file_cm\u001b[0m\u001b[0;34m(\u001b[0m\u001b[0mfilename_or_obj\u001b[0m\u001b[0;34m,\u001b[0m \u001b[0;34m\"wb\"\u001b[0m\u001b[0;34m)\u001b[0m \u001b[0;32mas\u001b[0m \u001b[0mfh\u001b[0m\u001b[0;34m:\u001b[0m\u001b[0;34m\u001b[0m\u001b[0m\n\u001b[0m\u001b[1;32m    527\u001b[0m                 _png.write_png(renderer._renderer, fh,\n\u001b[1;32m    528\u001b[0m                                self.figure.dpi, metadata=metadata)\n",
      "\u001b[0;32m//anaconda/envs/drilsdown/lib/python3.6/contextlib.py\u001b[0m in \u001b[0;36m__enter__\u001b[0;34m(self)\u001b[0m\n\u001b[1;32m     79\u001b[0m     \u001b[0;32mdef\u001b[0m \u001b[0m__enter__\u001b[0m\u001b[0;34m(\u001b[0m\u001b[0mself\u001b[0m\u001b[0;34m)\u001b[0m\u001b[0;34m:\u001b[0m\u001b[0;34m\u001b[0m\u001b[0m\n\u001b[1;32m     80\u001b[0m         \u001b[0;32mtry\u001b[0m\u001b[0;34m:\u001b[0m\u001b[0;34m\u001b[0m\u001b[0m\n\u001b[0;32m---> 81\u001b[0;31m             \u001b[0;32mreturn\u001b[0m \u001b[0mnext\u001b[0m\u001b[0;34m(\u001b[0m\u001b[0mself\u001b[0m\u001b[0;34m.\u001b[0m\u001b[0mgen\u001b[0m\u001b[0;34m)\u001b[0m\u001b[0;34m\u001b[0m\u001b[0m\n\u001b[0m\u001b[1;32m     82\u001b[0m         \u001b[0;32mexcept\u001b[0m \u001b[0mStopIteration\u001b[0m\u001b[0;34m:\u001b[0m\u001b[0;34m\u001b[0m\u001b[0m\n\u001b[1;32m     83\u001b[0m             \u001b[0;32mraise\u001b[0m \u001b[0mRuntimeError\u001b[0m\u001b[0;34m(\u001b[0m\u001b[0;34m\"generator didn't yield\"\u001b[0m\u001b[0;34m)\u001b[0m \u001b[0;32mfrom\u001b[0m \u001b[0;32mNone\u001b[0m\u001b[0;34m\u001b[0m\u001b[0m\n",
      "\u001b[0;32m//anaconda/envs/drilsdown/lib/python3.6/site-packages/matplotlib/cbook/__init__.py\u001b[0m in \u001b[0;36mopen_file_cm\u001b[0;34m(path_or_file, mode, encoding)\u001b[0m\n\u001b[1;32m    622\u001b[0m \u001b[0;32mdef\u001b[0m \u001b[0mopen_file_cm\u001b[0m\u001b[0;34m(\u001b[0m\u001b[0mpath_or_file\u001b[0m\u001b[0;34m,\u001b[0m \u001b[0mmode\u001b[0m\u001b[0;34m=\u001b[0m\u001b[0;34m\"r\"\u001b[0m\u001b[0;34m,\u001b[0m \u001b[0mencoding\u001b[0m\u001b[0;34m=\u001b[0m\u001b[0;32mNone\u001b[0m\u001b[0;34m)\u001b[0m\u001b[0;34m:\u001b[0m\u001b[0;34m\u001b[0m\u001b[0m\n\u001b[1;32m    623\u001b[0m     \u001b[0;34mr\"\"\"Pass through file objects and context-manage `.PathLike`\\s.\"\"\"\u001b[0m\u001b[0;34m\u001b[0m\u001b[0m\n\u001b[0;32m--> 624\u001b[0;31m     \u001b[0mfh\u001b[0m\u001b[0;34m,\u001b[0m \u001b[0mopened\u001b[0m \u001b[0;34m=\u001b[0m \u001b[0mto_filehandle\u001b[0m\u001b[0;34m(\u001b[0m\u001b[0mpath_or_file\u001b[0m\u001b[0;34m,\u001b[0m \u001b[0mmode\u001b[0m\u001b[0;34m,\u001b[0m \u001b[0;32mTrue\u001b[0m\u001b[0;34m,\u001b[0m \u001b[0mencoding\u001b[0m\u001b[0;34m)\u001b[0m\u001b[0;34m\u001b[0m\u001b[0m\n\u001b[0m\u001b[1;32m    625\u001b[0m     \u001b[0;32mif\u001b[0m \u001b[0mopened\u001b[0m\u001b[0;34m:\u001b[0m\u001b[0;34m\u001b[0m\u001b[0m\n\u001b[1;32m    626\u001b[0m         \u001b[0;32mwith\u001b[0m \u001b[0mfh\u001b[0m\u001b[0;34m:\u001b[0m\u001b[0;34m\u001b[0m\u001b[0m\n",
      "\u001b[0;32m//anaconda/envs/drilsdown/lib/python3.6/site-packages/matplotlib/cbook/__init__.py\u001b[0m in \u001b[0;36mto_filehandle\u001b[0;34m(fname, flag, return_opened, encoding)\u001b[0m\n\u001b[1;32m    607\u001b[0m             \u001b[0mfh\u001b[0m \u001b[0;34m=\u001b[0m \u001b[0mbz2\u001b[0m\u001b[0;34m.\u001b[0m\u001b[0mBZ2File\u001b[0m\u001b[0;34m(\u001b[0m\u001b[0mfname\u001b[0m\u001b[0;34m,\u001b[0m \u001b[0mflag\u001b[0m\u001b[0;34m)\u001b[0m\u001b[0;34m\u001b[0m\u001b[0m\n\u001b[1;32m    608\u001b[0m         \u001b[0;32melse\u001b[0m\u001b[0;34m:\u001b[0m\u001b[0;34m\u001b[0m\u001b[0m\n\u001b[0;32m--> 609\u001b[0;31m             \u001b[0mfh\u001b[0m \u001b[0;34m=\u001b[0m \u001b[0mio\u001b[0m\u001b[0;34m.\u001b[0m\u001b[0mopen\u001b[0m\u001b[0;34m(\u001b[0m\u001b[0mfname\u001b[0m\u001b[0;34m,\u001b[0m \u001b[0mflag\u001b[0m\u001b[0;34m,\u001b[0m \u001b[0mencoding\u001b[0m\u001b[0;34m=\u001b[0m\u001b[0mencoding\u001b[0m\u001b[0;34m)\u001b[0m\u001b[0;34m\u001b[0m\u001b[0m\n\u001b[0m\u001b[1;32m    610\u001b[0m         \u001b[0mopened\u001b[0m \u001b[0;34m=\u001b[0m \u001b[0;32mTrue\u001b[0m\u001b[0;34m\u001b[0m\u001b[0m\n\u001b[1;32m    611\u001b[0m     \u001b[0;32melif\u001b[0m \u001b[0mhasattr\u001b[0m\u001b[0;34m(\u001b[0m\u001b[0mfname\u001b[0m\u001b[0;34m,\u001b[0m \u001b[0;34m'seek'\u001b[0m\u001b[0;34m)\u001b[0m\u001b[0;34m:\u001b[0m\u001b[0;34m\u001b[0m\u001b[0m\n",
      "\u001b[0;31mFileNotFoundError\u001b[0m: [Errno 2] No such file or directory: 'frames/000000.png'"
     ]
    }
   ],
   "source": [
    "#%%prun \n",
    "# remove the above comment symbol to use %%prun\n",
    "    \n",
    "while t < tstop - dt/2. :\n",
    "    nstep += 1\n",
    "    abnow = min(nstep,aborder) \n",
    "    \n",
    "    div_vel = divergence(u,w,dx,dz)\n",
    "    wu = w_to_u(w)\n",
    "    uw = u_to_w(u)\n",
    "#    dbdt = advect(b,uw,w,dx,dz) \n",
    "#    dudt = advect(u,u,wu,dx,dz)\n",
    "#    dwdt = advect(w,uw,w,dx,dz) + b   \n",
    "# Include background sheared flow Uu (on u grid) and Uw (on b,w grid) advecting everything\n",
    "    dbdt = advect(b,uw+Uw,w,dx,dz) \n",
    "    dudt = advect(u,u+Uu,wu,dx,dz)\n",
    "    dwdt = advect(w,uw+Uw,w,dx,dz) + b\n",
    "\n",
    "    if diffusion_coef > 0.0 :\n",
    "        dbdt += diffusion_coef*laplacian(b,dx,dz,il=0,ir=-1)\n",
    "        dudt += diffusion_coef*laplacian(u,dx,dz,jb=0,jt=-1)\n",
    "        dwdt += diffusion_coef*laplacian(w,dx,dz,il=0,ir=-1)\n",
    "    div_accel = divergence(dudt,dwdt,dx,dz)\n",
    "    p = poisson_p_fft(div_accel + div_reduce*div_vel/dt  , invlapl)\n",
    "#    p -= p.mean() # is this kluge necessary?\n",
    "    \n",
    "    dudt[:,1:-1] += (p[:,:-1]-p[:,1:])/dx\n",
    "    dwdt[1:-1,:] += (p[:-1,:]-p[1:,:])/dz\n",
    "       \n",
    "    dudta = [dudt.copy()] + dudta[:-1]\n",
    "    dwdta = [dwdt.copy()] + dwdta[:-1]\n",
    "    dbdta = [dbdt.copy()] + dbdta[:-1]\n",
    "    \n",
    "    u += dt*ab_blend(dudta,abnow) \n",
    "    w += dt*ab_blend(dwdta,abnow)\n",
    "    b += dt*ab_blend(dbdta,abnow)\n",
    "    \n",
    "# starting plume includes a sustained buoyancy source\n",
    "    b += dt*bsource \n",
    "        \n",
    "    t = t + dt\n",
    "    \n",
    "    vstore1.append( b.max() )\n",
    "    vstore2.append( abs(div_vel).max())\n",
    "    tstore.append(t)\n",
    "    \n",
    "    assert u.max()<2.e10, 'kaboom!'\n",
    "\n",
    "    if t > tplot - dt/2. : \n",
    "        \n",
    "# Only at plotting time, display the buoyancy driven and dynamic pressures    \n",
    "# diagnose b and d pressures and display them separately \n",
    "# pb, buoyancy pressure\n",
    "        div_accelb = divergence(dudt*0,b,dx,dz)\n",
    "        pb = poisson_p_fft(div_accelb + div_reduce*div_vel/dt  , invlapl)\n",
    "#        pb -= pb.mean()\n",
    "\n",
    "# pd, dynamic pressure due to advection by mean shearflow only\n",
    "        dudtU = advect(u,Uu,wu*0,dx,dz)\n",
    "        dwdtU = advect(w,Uw,w*0,dx,dz)\n",
    "        div_acceldU = divergence(dudtU,dwdtU,dx,dz)\n",
    "        pdynU = poisson_p_fft(div_acceldU + div_reduce*div_vel/dt  , invlapl)\n",
    "        pdyn=pdynU\n",
    "# or, residual passed to plotting code \n",
    "        # pdyn = p-pb\n",
    "        \n",
    "        doplot() # contours of pd and pb were added to doplot()\n",
    "        tplot = min(tstop,tplot + dplot)\n",
    "\n",
    "plt.close() "
   ]
  },
  {
   "cell_type": "markdown",
   "metadata": {},
   "source": [
    "<a href=\"#initial\">Set new initial conditions</a>"
   ]
  },
  {
   "cell_type": "code",
   "execution_count": 24,
   "metadata": {},
   "outputs": [
    {
     "name": "stdout",
     "output_type": "stream",
     "text": [
      "/Users/bem/Jupyter/ATM663_convection_meso/Assignments/Notebooks\r\n"
     ]
    }
   ],
   "source": [
    "!pwd"
   ]
  },
  {
   "cell_type": "code",
   "execution_count": 25,
   "metadata": {},
   "outputs": [
    {
     "name": "stdout",
     "output_type": "stream",
     "text": [
      "/Users/bem/Jupyter/ATM663_convection_meso/Assignments/Notebooks/frames\n",
      "['/Users/bem/Jupyter/ATM663_convection_meso/Assignments/Notebooks/frames/000000.png', '/Users/bem/Jupyter/ATM663_convection_meso/Assignments/Notebooks/frames/000010.png', '/Users/bem/Jupyter/ATM663_convection_meso/Assignments/Notebooks/frames/000020.png', '/Users/bem/Jupyter/ATM663_convection_meso/Assignments/Notebooks/frames/000030.png', '/Users/bem/Jupyter/ATM663_convection_meso/Assignments/Notebooks/frames/000040.png', '/Users/bem/Jupyter/ATM663_convection_meso/Assignments/Notebooks/frames/000050.png', '/Users/bem/Jupyter/ATM663_convection_meso/Assignments/Notebooks/frames/000060.png', '/Users/bem/Jupyter/ATM663_convection_meso/Assignments/Notebooks/frames/000070.png', '/Users/bem/Jupyter/ATM663_convection_meso/Assignments/Notebooks/frames/000080.png', '/Users/bem/Jupyter/ATM663_convection_meso/Assignments/Notebooks/frames/000090.png', '/Users/bem/Jupyter/ATM663_convection_meso/Assignments/Notebooks/frames/000100.png', '/Users/bem/Jupyter/ATM663_convection_meso/Assignments/Notebooks/frames/000110.png', '/Users/bem/Jupyter/ATM663_convection_meso/Assignments/Notebooks/frames/000120.png', '/Users/bem/Jupyter/ATM663_convection_meso/Assignments/Notebooks/frames/000130.png', '/Users/bem/Jupyter/ATM663_convection_meso/Assignments/Notebooks/frames/000140.png', '/Users/bem/Jupyter/ATM663_convection_meso/Assignments/Notebooks/frames/000150.png', '/Users/bem/Jupyter/ATM663_convection_meso/Assignments/Notebooks/frames/000160.png', '/Users/bem/Jupyter/ATM663_convection_meso/Assignments/Notebooks/frames/000170.png', '/Users/bem/Jupyter/ATM663_convection_meso/Assignments/Notebooks/frames/000180.png', '/Users/bem/Jupyter/ATM663_convection_meso/Assignments/Notebooks/frames/000190.png', '/Users/bem/Jupyter/ATM663_convection_meso/Assignments/Notebooks/frames/000200.png', '/Users/bem/Jupyter/ATM663_convection_meso/Assignments/Notebooks/frames/000210.png', '/Users/bem/Jupyter/ATM663_convection_meso/Assignments/Notebooks/frames/000220.png', '/Users/bem/Jupyter/ATM663_convection_meso/Assignments/Notebooks/frames/000230.png', '/Users/bem/Jupyter/ATM663_convection_meso/Assignments/Notebooks/frames/000240.png', '/Users/bem/Jupyter/ATM663_convection_meso/Assignments/Notebooks/frames/000250.png', '/Users/bem/Jupyter/ATM663_convection_meso/Assignments/Notebooks/frames/000260.png', '/Users/bem/Jupyter/ATM663_convection_meso/Assignments/Notebooks/frames/000270.png', '/Users/bem/Jupyter/ATM663_convection_meso/Assignments/Notebooks/frames/000280.png', '/Users/bem/Jupyter/ATM663_convection_meso/Assignments/Notebooks/frames/000290.png', '/Users/bem/Jupyter/ATM663_convection_meso/Assignments/Notebooks/frames/000300.png', '/Users/bem/Jupyter/ATM663_convection_meso/Assignments/Notebooks/frames/000310.png', '/Users/bem/Jupyter/ATM663_convection_meso/Assignments/Notebooks/frames/000320.png', '/Users/bem/Jupyter/ATM663_convection_meso/Assignments/Notebooks/frames/000330.png', '/Users/bem/Jupyter/ATM663_convection_meso/Assignments/Notebooks/frames/000340.png', '/Users/bem/Jupyter/ATM663_convection_meso/Assignments/Notebooks/frames/000350.png', '/Users/bem/Jupyter/ATM663_convection_meso/Assignments/Notebooks/frames/000360.png', '/Users/bem/Jupyter/ATM663_convection_meso/Assignments/Notebooks/frames/000370.png', '/Users/bem/Jupyter/ATM663_convection_meso/Assignments/Notebooks/frames/000380.png', '/Users/bem/Jupyter/ATM663_convection_meso/Assignments/Notebooks/frames/000390.png', '/Users/bem/Jupyter/ATM663_convection_meso/Assignments/Notebooks/frames/000400.png']\n"
     ]
    }
   ],
   "source": [
    "import glob \n",
    "import imageio\n",
    "\n",
    "path = '/Users/bem/Jupyter/ATM663_convection_meso/Assignments/Notebooks/'+outdir\n",
    "print(path)\n",
    "os.chdir(path)\n",
    "filenames = sorted(glob.glob(path+'/*.png'))\n",
    "print(filenames)\n",
    "images = []\n",
    "for filename in filenames:\n",
    "    images.append(imageio.imread(filename))\n",
    "imageio.mimsave('./bubble_exp.gif', images) # convert plots into a gif movie"
   ]
  },
  {
   "cell_type": "markdown",
   "metadata": {},
   "source": [
    "## Animated gif result"
   ]
  },
  {
   "cell_type": "markdown",
   "metadata": {},
   "source": [
    "<tr>\n",
    "<td><img src='/Users/bem/Jupyter/ATM663_convection_meso/Assignments/Notebooks/frames/bubble_exp.gif' width=\"800\" height=\"400\"><td>\n",
    "<tr>"
   ]
  },
  {
   "cell_type": "markdown",
   "metadata": {
    "scrolled": false
   },
   "source": [
    "!/Users/bem/Jupyter/ATM663_convection_meso/Assignments/Notebooks/frames/bubble_exp.gif"
   ]
  },
  {
   "cell_type": "code",
   "execution_count": 26,
   "metadata": {},
   "outputs": [
    {
     "name": "stdout",
     "output_type": "stream",
     "text": [
      "/bin/sh: -c: line 0: syntax error near unexpected token `https://upload.wikimedia.org/wikipedia/commons/7/71/ChessPawnSpecialMoves.gif'\r\n",
      "/bin/sh: -c: line 0: `[ChessUrl](https://upload.wikimedia.org/wikipedia/commons/7/71/ChessPawnSpecialMoves.gif \"chess\")'\r\n"
     ]
    }
   ],
   "source": [
    "![ChessUrl](https://upload.wikimedia.org/wikipedia/commons/7/71/ChessPawnSpecialMoves.gif \"chess\")"
   ]
  },
  {
   "cell_type": "code",
   "execution_count": 27,
   "metadata": {},
   "outputs": [
    {
     "data": {
      "text/html": [
       "<img src=\"/Users/bem/Jupyter/ATM663_convection_meso/Assignments/Notebooks/frames/bubble_exp.gif\">"
      ],
      "text/plain": [
       "<IPython.core.display.HTML object>"
      ]
     },
     "execution_count": 27,
     "metadata": {},
     "output_type": "execute_result"
    }
   ],
   "source": [
    "from IPython.display import HTML\n",
    "HTML('<img src=\"/Users/bem/Jupyter/ATM663_convection_meso/Assignments/Notebooks/frames/bubble_exp.gif\">')"
   ]
  },
  {
   "cell_type": "code",
   "execution_count": null,
   "metadata": {},
   "outputs": [],
   "source": []
  }
 ],
 "metadata": {
  "anaconda-cloud": {
   "environment": null
  },
  "kernelspec": {
   "display_name": "Python 3",
   "language": "python",
   "name": "python3"
  },
  "language_info": {
   "codemirror_mode": {
    "name": "ipython",
    "version": 3
   },
   "file_extension": ".py",
   "mimetype": "text/x-python",
   "name": "python",
   "nbconvert_exporter": "python",
   "pygments_lexer": "ipython3",
   "version": "3.6.5"
  }
 },
 "nbformat": 4,
 "nbformat_minor": 2
}
